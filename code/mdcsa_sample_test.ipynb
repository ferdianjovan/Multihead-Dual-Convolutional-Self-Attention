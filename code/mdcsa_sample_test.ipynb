{
 "cells": [
  {
   "cell_type": "code",
   "execution_count": 1,
   "id": "d57cd835",
   "metadata": {},
   "outputs": [
    {
     "name": "stdout",
     "output_type": "stream",
     "text": [
      "Using cuda:0 device\n"
     ]
    }
   ],
   "source": [
    "import json\n",
    "import torch\n",
    "import numpy as np\n",
    "from sklearn.preprocessing import OneHotEncoder\n",
    "\n",
    "import sys\n",
    "import warnings\n",
    "warnings.filterwarnings('ignore')\n",
    "\n",
    "# Path to local library\n",
    "sys.path.append('./models')\n",
    "\n",
    "# Local library\n",
    "from util import load_data, normalise, train_validate, test\n",
    "\n",
    "# Random seed\n",
    "params = json.load(open(\"hyperparams.json\", \"r\"))\n",
    "NJOBS = params['njobs']\n",
    "RANDOM_STATE = params['random_state']\n",
    "np.random.seed(RANDOM_STATE)\n",
    "torch.manual_seed(RANDOM_STATE)\n",
    "torch.cuda.manual_seed(RANDOM_STATE) \n",
    "device = 'cuda:0' if torch.cuda.is_available() else 'cpu'\n",
    "print(f\"Using {device} device\")"
   ]
  },
  {
   "cell_type": "code",
   "execution_count": 2,
   "id": "f65573a3",
   "metadata": {
    "scrolled": true
   },
   "outputs": [
    {
     "name": "stdout",
     "output_type": "stream",
     "text": [
      "Data for (stairs) is not available!\n",
      "Data for (porch/outside_front_door) is not available!\n",
      "Train data: (7289, 25, 20), Validation data: (7290, 25, 20), Test data: (14689, 25, 20)\n"
     ]
    }
   ],
   "source": [
    "rssi_train, accl_train, location_train = load_data(params['data_path'], control=True)\n",
    "rssi_test, accl_test, location_test = load_data(params['data_path'], control=False)\n",
    "\n",
    "train_idx, validation_idx = np.array([]).astype(np.int64), np.array([]).astype(np.int64)\n",
    "for room in ['dining_room', 'living_room', 'kitchen', 'hall', 'stairs', 'porch/outside_front_door']:\n",
    "    temp = np.unique(np.argwhere(location_train == room)[:, 0])\n",
    "    if len(temp):\n",
    "        train_idx = np.concatenate([train_idx, temp[:int(len(temp)/2)]])\n",
    "        validation_idx = np.concatenate([validation_idx, temp[int(len(temp)/2):]])\n",
    "    else:\n",
    "        print(f'Data for ({room}) is not available!')\n",
    "\n",
    "rssi_scaler, rssi_train, rssi_test, rssi_val = normalise(rssi_train[train_idx], rssi_test, rssi_train[validation_idx])\n",
    "accl_scaler, accl_train, accl_test, accl_val = normalise(accl_train[train_idx], accl_test, accl_train[validation_idx])\n",
    "\n",
    "encoder = OneHotEncoder(sparse=False)\n",
    "encoder.fit(np.unique(np.concatenate(\n",
    "    [location_train[train_idx], location_train[validation_idx], location_test]\n",
    ")).reshape(-1, 1))\n",
    "location_val = encoder.transform(location_train[validation_idx].reshape(-1, 1)).reshape(len(validation_idx), location_train.shape[1], -1)\n",
    "location_train = encoder.transform(location_train[train_idx].reshape(-1, 1)).reshape(len(train_idx), location_train.shape[1], -1)\n",
    "location_test = encoder.transform(location_test.reshape(-1, 1)).reshape(rssi_test.shape[0], rssi_test.shape[1], -1)\n",
    "\n",
    "print('Train data: {}, Validation data: {}, Test data: {}'.format(\n",
    "    rssi_train.shape, rssi_val.shape, rssi_test.shape\n",
    "))"
   ]
  },
  {
   "cell_type": "code",
   "execution_count": null,
   "id": "faf81c77",
   "metadata": {
    "scrolled": true
   },
   "outputs": [
    {
     "name": "stdout",
     "output_type": "stream",
     "text": [
      "Batch: 0, Train Loss: 47.55542, Acc: 0.00535\n",
      "Batch: 5120, Train Loss: 45.57110, Acc: 0.30333\n",
      "Val Acc: 0.61427\n",
      "Batch: 0, Train Loss: 10.57161, Acc: 0.13280\n",
      "Batch: 5120, Train Loss: 21.01987, Acc: 0.60077\n",
      "Val Acc: 0.75117\n",
      "Batch: 0, Train Loss: 11.16845, Acc: 0.13267\n",
      "Batch: 5120, Train Loss: 18.28908, Acc: 0.71944\n",
      "Val Acc: 0.76543\n",
      "Batch: 0, Train Loss: 12.90567, Acc: 0.13212\n",
      "Batch: 5120, Train Loss: 15.22618, Acc: 0.76320\n",
      "Val Acc: 0.76598\n",
      "Batch: 0, Train Loss: 13.95231, Acc: 0.13088\n",
      "Batch: 5120, Train Loss: 14.03514, Acc: 0.77157\n",
      "Val Acc: 0.81166\n",
      "Batch: 0, Train Loss: 14.65258, Acc: 0.12965\n",
      "Batch: 5120, Train Loss: 12.42518, Acc: 0.78474\n",
      "Val Acc: 0.95336\n",
      "Batch: 0, Train Loss: 16.62818, Acc: 0.11620\n",
      "Batch: 5120, Train Loss: 11.57179, Acc: 0.77500\n",
      "Val Acc: 0.97311\n",
      "Batch: 0, Train Loss: 16.54593, Acc: 0.11593\n",
      "Batch: 5120, Train Loss: 10.60956, Acc: 0.78063\n",
      "Val Acc: 0.98066\n",
      "Batch: 0, Train Loss: 15.59942, Acc: 0.11277\n",
      "Batch: 5120, Train Loss: 9.13381, Acc: 0.78735\n",
      "Val Acc: 0.98038\n",
      "Batch: 0, Train Loss: 14.68025, Acc: 0.11963\n",
      "Batch: 5120, Train Loss: 8.10910, Acc: 0.79860\n",
      "Val Acc: 0.98121\n",
      "Batch: 0, Train Loss: 13.16300, Acc: 0.12361\n",
      "Batch: 5120, Train Loss: 6.86929, Acc: 0.80971\n",
      "Val Acc: 0.98080\n",
      "Batch: 0, Train Loss: 11.80197, Acc: 0.12814\n",
      "Batch: 5120, Train Loss: 5.96431, Acc: 0.81891\n",
      "Val Acc: 0.98052\n"
     ]
    }
   ],
   "source": [
    "model = train_validate(\n",
    "    torch.from_numpy(rssi_train).type(torch.float).to(device), \n",
    "    torch.from_numpy(accl_train).type(torch.float).to(device), \n",
    "    torch.from_numpy(location_train).type(torch.float).to(device),\n",
    "    torch.from_numpy(rssi_val).type(torch.float).to(device),\n",
    "    torch.from_numpy(accl_val).type(torch.float).to(device),\n",
    "    torch.from_numpy(location_val).type(torch.float).to(device), \n",
    "    np.argmax(encoder.transform([['hall']])), params\n",
    ")"
   ]
  },
  {
   "cell_type": "code",
   "execution_count": null,
   "id": "fc8dd020",
   "metadata": {},
   "outputs": [],
   "source": [
    "test(\n",
    "    model, \n",
    "    torch.from_numpy(rssi_test).type(torch.float).to(device), \n",
    "    torch.from_numpy(accl_test).type(torch.float).to(device), \n",
    "    torch.from_numpy(location_test).type(torch.float).to(device), \n",
    "    params\n",
    ")"
   ]
  }
 ],
 "metadata": {
  "kernelspec": {
   "display_name": "Python 3 (ipykernel)",
   "language": "python",
   "name": "python3"
  },
  "language_info": {
   "codemirror_mode": {
    "name": "ipython",
    "version": 3
   },
   "file_extension": ".py",
   "mimetype": "text/x-python",
   "name": "python",
   "nbconvert_exporter": "python",
   "pygments_lexer": "ipython3",
   "version": "3.9.7"
  }
 },
 "nbformat": 4,
 "nbformat_minor": 5
}
