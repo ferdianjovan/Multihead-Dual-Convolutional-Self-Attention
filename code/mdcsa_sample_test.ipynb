{
 "cells": [
  {
   "cell_type": "code",
   "execution_count": 1,
   "id": "d57cd835",
   "metadata": {},
   "outputs": [
    {
     "name": "stdout",
     "output_type": "stream",
     "text": [
      "Using cpu device\n"
     ]
    }
   ],
   "source": [
    "import json\n",
    "import torch\n",
    "import numpy as np\n",
    "from sklearn.preprocessing import OneHotEncoder\n",
    "\n",
    "import sys\n",
    "import warnings\n",
    "warnings.filterwarnings('ignore')\n",
    "\n",
    "# Path to local library\n",
    "sys.path.append('./models')\n",
    "\n",
    "# Local library\n",
    "from util import load_data, normalise, train_validate, test\n",
    "\n",
    "# Random seed\n",
    "params = json.load(open(\"hyperparams.json\", \"r\"))\n",
    "NJOBS = params['njobs']\n",
    "RANDOM_STATE = params['random_state']\n",
    "np.random.seed(RANDOM_STATE)\n",
    "torch.manual_seed(RANDOM_STATE)\n",
    "torch.cuda.manual_seed(RANDOM_STATE) \n",
    "device = 'cuda:0' if torch.cuda.is_available() else 'cpu'\n",
    "print(f\"Using {device} device\")"
   ]
  },
  {
   "cell_type": "code",
   "execution_count": 2,
   "id": "f65573a3",
   "metadata": {
    "scrolled": true
   },
   "outputs": [
    {
     "name": "stdout",
     "output_type": "stream",
     "text": [
      "Data for (stairs) is not available!\n",
      "Data for (porch/outside_front_door) is not available!\n",
      "Train data: (952, 25, 20), Validation data: (13627, 25, 20), Test data: (14689, 25, 20)\n"
     ]
    }
   ],
   "source": [
    "rssi_train, accl_train, location_train, _ = load_data(params['data_path'], control=True)\n",
    "rssi_test, accl_test, location_test, _ = load_data(params['data_path'], control=False)\n",
    "\n",
    "train_idx, validation_idx = np.array([]).astype(np.int64), np.array([]).astype(np.int64)\n",
    "for room in ['dining_room', 'living_room', 'kitchen', 'hall', 'stairs', 'porch/outside_front_door']:\n",
    "    temp = np.unique(np.argwhere(location_train == room)[:, 0])\n",
    "    if len(temp):\n",
    "        # Limit train data to 300 samples per room (= 1 minute worth of samples per room with 5Hz sampling rate)\n",
    "        limit = np.min([len(temp), 300])\n",
    "        if limit < 300:\n",
    "            limit = int(limit / 2)\n",
    "        train_idx = np.concatenate([train_idx, temp[:limit]])\n",
    "        validation_idx = np.concatenate([validation_idx, temp[limit:]])\n",
    "    else:\n",
    "        print(f'Data for ({room}) is not available!')\n",
    "\n",
    "rssi_scaler, rssi_train, rssi_test, rssi_val = normalise(rssi_train[train_idx], rssi_test, rssi_train[validation_idx])\n",
    "accl_scaler, accl_train, accl_test, accl_val = normalise(accl_train[train_idx], accl_test, accl_train[validation_idx])\n",
    "\n",
    "encoder = OneHotEncoder(sparse=False)\n",
    "encoder.fit(np.unique(np.concatenate(\n",
    "    [location_train[train_idx], location_train[validation_idx], location_test]\n",
    ")).reshape(-1, 1))\n",
    "location_val = encoder.transform(location_train[validation_idx].reshape(-1, 1)).reshape(len(validation_idx), location_train.shape[1], -1)\n",
    "location_train = encoder.transform(location_train[train_idx].reshape(-1, 1)).reshape(len(train_idx), location_train.shape[1], -1)\n",
    "location_test = encoder.transform(location_test.reshape(-1, 1)).reshape(rssi_test.shape[0], rssi_test.shape[1], -1)\n",
    "\n",
    "print('Train data: {}, Validation data: {}, Test data: {}'.format(\n",
    "    rssi_train.shape, rssi_val.shape, rssi_test.shape\n",
    "))"
   ]
  },
  {
   "cell_type": "code",
   "execution_count": 3,
   "id": "faf81c77",
   "metadata": {
    "scrolled": true
   },
   "outputs": [
    {
     "name": "stdout",
     "output_type": "stream",
     "text": [
      "Batch: 0, Train Loss: 36.59211, Acc: 42.00000\n",
      "Batch: 500, Train Loss: 33.80576, Acc: 38.33333\n",
      "Val Acc: 0.41256\n",
      "Batch: 0, Train Loss: 23.79462, Acc: 79.00000\n",
      "Batch: 500, Train Loss: 26.36288, Acc: 60.50000\n",
      "Val Acc: 0.51611\n",
      "Batch: 0, Train Loss: 23.41401, Acc: 73.00000\n",
      "Batch: 500, Train Loss: 24.67243, Acc: 63.66667\n",
      "Val Acc: 0.61077\n",
      "Batch: 0, Train Loss: 22.74483, Acc: 80.00000\n",
      "Batch: 500, Train Loss: 22.55278, Acc: 71.00000\n",
      "Val Acc: 0.68401\n",
      "Batch: 0, Train Loss: 22.22615, Acc: 85.00000\n",
      "Batch: 500, Train Loss: 20.45045, Acc: 79.83333\n",
      "Val Acc: 0.73685\n",
      "Batch: 0, Train Loss: 21.40193, Acc: 77.00000\n",
      "Batch: 500, Train Loss: 18.14055, Acc: 84.16667\n",
      "Val Acc: 0.80487\n",
      "Batch: 0, Train Loss: 20.42444, Acc: 81.00000\n",
      "Batch: 500, Train Loss: 16.12555, Acc: 90.83333\n",
      "Val Acc: 0.84369\n",
      "Batch: 0, Train Loss: 19.69536, Acc: 82.00000\n",
      "Batch: 500, Train Loss: 14.37757, Acc: 91.16667\n",
      "Val Acc: 0.87936\n",
      "Batch: 0, Train Loss: 19.19303, Acc: 81.00000\n",
      "Batch: 500, Train Loss: 12.86360, Acc: 94.33333\n",
      "Val Acc: 0.90805\n",
      "Batch: 0, Train Loss: 18.37029, Acc: 86.00000\n",
      "Batch: 500, Train Loss: 11.45087, Acc: 96.50000\n",
      "Val Acc: 0.92691\n"
     ]
    }
   ],
   "source": [
    "model = train_validate(\n",
    "    torch.from_numpy(rssi_train).type(torch.float).to(device), \n",
    "    torch.from_numpy(accl_train).type(torch.float).to(device), \n",
    "    torch.from_numpy(location_train).type(torch.float).to(device),\n",
    "    torch.from_numpy(rssi_val).type(torch.float).to(device),\n",
    "    torch.from_numpy(accl_val).type(torch.float).to(device),\n",
    "    torch.from_numpy(location_val).type(torch.float).to(device), \n",
    "    params\n",
    ")"
   ]
  },
  {
   "cell_type": "code",
   "execution_count": 4,
   "id": "fc8dd020",
   "metadata": {},
   "outputs": [
    {
     "name": "stdout",
     "output_type": "stream",
     "text": [
      "Test error: \n",
      " Accuracy: 1.2%\n"
     ]
    },
    {
     "data": {
      "text/plain": [
       "1.1845598747361972"
      ]
     },
     "execution_count": 4,
     "metadata": {},
     "output_type": "execute_result"
    }
   ],
   "source": [
    "test(\n",
    "    model, \n",
    "    torch.from_numpy(rssi_test).type(torch.float).to(device), \n",
    "    torch.from_numpy(accl_test).type(torch.float).to(device), \n",
    "    torch.from_numpy(location_test).type(torch.float).to(device), \n",
    "    params\n",
    ")"
   ]
  }
 ],
 "metadata": {
  "kernelspec": {
   "display_name": "Python 3 (ipykernel)",
   "language": "python",
   "name": "python3"
  },
  "language_info": {
   "codemirror_mode": {
    "name": "ipython",
    "version": 3
   },
   "file_extension": ".py",
   "mimetype": "text/x-python",
   "name": "python",
   "nbconvert_exporter": "python",
   "pygments_lexer": "ipython3",
   "version": "3.8.5"
  }
 },
 "nbformat": 4,
 "nbformat_minor": 5
}
